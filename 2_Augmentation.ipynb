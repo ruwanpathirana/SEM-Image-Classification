{
  "nbformat": 4,
  "nbformat_minor": 0,
  "metadata": {
    "colab": {
      "provenance": []
    },
    "kernelspec": {
      "name": "python3",
      "display_name": "Python 3"
    },
    "language_info": {
      "name": "python"
    },
    "accelerator": "TPU"
  },
  "cells": [
    {
      "cell_type": "code",
      "execution_count": null,
      "metadata": {
        "colab": {
          "base_uri": "https://localhost:8080/"
        },
        "id": "XTaEi0PKRl3c",
        "outputId": "857b9ecd-dd4b-41a3-e34d-b99febd0d23c"
      },
      "outputs": [
        {
          "output_type": "stream",
          "name": "stdout",
          "text": [
            "Requirement already satisfied: opencv-python in /usr/local/lib/python3.10/dist-packages (4.8.0.76)\n",
            "Requirement already satisfied: mahotas in /usr/local/lib/python3.10/dist-packages (1.4.13)\n",
            "Requirement already satisfied: matplotlib in /usr/local/lib/python3.10/dist-packages (3.7.1)\n",
            "Requirement already satisfied: numpy>=1.21.2 in /usr/local/lib/python3.10/dist-packages (from opencv-python) (1.23.5)\n",
            "Requirement already satisfied: contourpy>=1.0.1 in /usr/local/lib/python3.10/dist-packages (from matplotlib) (1.2.0)\n",
            "Requirement already satisfied: cycler>=0.10 in /usr/local/lib/python3.10/dist-packages (from matplotlib) (0.12.1)\n",
            "Requirement already satisfied: fonttools>=4.22.0 in /usr/local/lib/python3.10/dist-packages (from matplotlib) (4.49.0)\n",
            "Requirement already satisfied: kiwisolver>=1.0.1 in /usr/local/lib/python3.10/dist-packages (from matplotlib) (1.4.5)\n",
            "Requirement already satisfied: packaging>=20.0 in /usr/local/lib/python3.10/dist-packages (from matplotlib) (23.2)\n",
            "Requirement already satisfied: pillow>=6.2.0 in /usr/local/lib/python3.10/dist-packages (from matplotlib) (9.4.0)\n",
            "Requirement already satisfied: pyparsing>=2.3.1 in /usr/local/lib/python3.10/dist-packages (from matplotlib) (3.1.1)\n",
            "Requirement already satisfied: python-dateutil>=2.7 in /usr/local/lib/python3.10/dist-packages (from matplotlib) (2.8.2)\n",
            "Requirement already satisfied: six>=1.5 in /usr/local/lib/python3.10/dist-packages (from python-dateutil>=2.7->matplotlib) (1.16.0)\n"
          ]
        }
      ],
      "source": [
        "!pip install opencv-python mahotas matplotlib"
      ]
    },
    {
      "cell_type": "code",
      "source": [
        "import cv2\n",
        "import os\n",
        "import mahotas\n",
        "import numpy as np\n",
        "import matplotlib.pyplot as plt\n",
        "from google.colab import drive\n",
        "from skimage.io import imread, imshow"
      ],
      "metadata": {
        "id": "oXjMw__4Ru04"
      },
      "execution_count": null,
      "outputs": []
    },
    {
      "cell_type": "code",
      "source": [
        "drive.mount('/content/drive')\n",
        "data_folder = '/content/drive/My Drive/Group/images/'"
      ],
      "metadata": {
        "colab": {
          "base_uri": "https://localhost:8080/"
        },
        "id": "HzOxgQ6wRvpo",
        "outputId": "7587a1da-6d59-4203-9c2f-a1963d185378"
      },
      "execution_count": null,
      "outputs": [
        {
          "output_type": "stream",
          "name": "stdout",
          "text": [
            "Drive already mounted at /content/drive; to attempt to forcibly remount, call drive.mount(\"/content/drive\", force_remount=True).\n"
          ]
        }
      ]
    },
    {
      "cell_type": "code",
      "source": [
        "labels = os.listdir(data_folder)\n",
        "for label in labels:\n",
        "    label_folder = os.path.join(data_folder, label)\n",
        "\n",
        "    # Get the list of images in the label folder\n",
        "    images = os.listdir(label_folder)\n",
        "\n",
        "    # Count the number of images in the label folder\n",
        "    num_images = len(images)\n",
        "\n",
        "    # Print the number of images for the current label\n",
        "    print(f\"Label: {label}, Number of images: {num_images}\")"
      ],
      "metadata": {
        "colab": {
          "base_uri": "https://localhost:8080/"
        },
        "id": "8_MYcCA3Rvua",
        "outputId": "1417dd9c-e535-4dab-c311-508eda9fbee3"
      },
      "execution_count": null,
      "outputs": [
        {
          "output_type": "stream",
          "name": "stdout",
          "text": [
            "Label: Patterned_surface, Number of images: 3310\n",
            "Label: Porous_Sponge, Number of images: 171\n",
            "Label: Powder, Number of images: 895\n",
            "Label: Tips, Number of images: 1561\n",
            "Label: Particles, Number of images: 3412\n",
            "Label: Fibres, Number of images: 153\n",
            "Label: Films_Coated_Surface, Number of images: 308\n",
            "Label: Nanowires, Number of images: 3656\n",
            "Label: MEMS_devices_and_electrodes, Number of images: 4158\n",
            "Label: Biological, Number of images: 953\n"
          ]
        }
      ]
    },
    {
      "cell_type": "code",
      "source": [],
      "metadata": {
        "id": "hlV18qR5CCqG"
      },
      "execution_count": null,
      "outputs": []
    },
    {
      "cell_type": "code",
      "source": [
        "# Define rotation angles (in degrees)\n",
        "rotation_angles = [90, 180, 270]\n",
        "\n",
        "# Threshold for the number of images below which augmentation will be performed\n",
        "threshold = 310  # Adjust this threshold according to your requirements\n",
        "\n",
        "# Loop through each label folder\n",
        "for label in os.listdir(data_folder):\n",
        "    label_folder = os.path.join(data_folder, label)\n",
        "\n",
        "    # Check the number of images in the label folder\n",
        "    num_images = len(os.listdir(label_folder))\n",
        "\n",
        "    # Perform augmentation only if the number of images is below the threshold\n",
        "    if num_images < threshold:\n",
        "        # Loop through each image in the label folder\n",
        "        for image_name in os.listdir(label_folder):\n",
        "            image_path = os.path.join(label_folder, image_name)\n",
        "            image = cv2.imread(image_path)\n",
        "\n",
        "            # Perform rotation augmentation\n",
        "            for angle in rotation_angles:\n",
        "                # Rotate the image\n",
        "                rotated_image = cv2.rotate(image, cv2.ROTATE_90_CLOCKWISE if angle == 90 else cv2.ROTATE_180 if angle == 180 else cv2.ROTATE_90_COUNTERCLOCKWISE)\n",
        "\n",
        "                # Define the path to save the augmented image\n",
        "                augmented_image_name = f\"{os.path.splitext(image_name)[0]}_rotated_{angle}.jpg\"\n",
        "                augmented_image_path = os.path.join(label_folder, augmented_image_name)\n",
        "\n",
        "                # Save the rotated image\n",
        "                cv2.imwrite(augmented_image_path, rotated_image)\n"
      ],
      "metadata": {
        "id": "eCkWGyKTRvxB"
      },
      "execution_count": null,
      "outputs": []
    },
    {
      "cell_type": "code",
      "source": [
        "labels = os.listdir(data_folder)\n",
        "for label in labels:\n",
        "    label_folder = os.path.join(data_folder, label)\n",
        "\n",
        "    # Get the list of images in the label folder\n",
        "    images = os.listdir(label_folder)\n",
        "\n",
        "    # Count the number of images in the label folder\n",
        "    num_images = len(images)\n",
        "\n",
        "    # Print the number of images for the current label\n",
        "    print(f\"Label: {label}, Number of images: {num_images}\")\n"
      ],
      "metadata": {
        "colab": {
          "base_uri": "https://localhost:8080/"
        },
        "id": "JhJqbE1rRvzm",
        "outputId": "c449728c-341b-4615-d301-3f91ae54fbdd"
      },
      "execution_count": null,
      "outputs": [
        {
          "output_type": "stream",
          "name": "stdout",
          "text": [
            "Label: Patterned_surface, Number of images: 3310\n",
            "Label: Porous_Sponge, Number of images: 684\n",
            "Label: Powder, Number of images: 895\n",
            "Label: Tips, Number of images: 1561\n",
            "Label: Particles, Number of images: 3412\n",
            "Label: Fibres, Number of images: 612\n",
            "Label: Films_Coated_Surface, Number of images: 1232\n",
            "Label: Nanowires, Number of images: 3656\n",
            "Label: MEMS_devices_and_electrodes, Number of images: 4158\n",
            "Label: Biological, Number of images: 953\n"
          ]
        }
      ]
    },
    {
      "cell_type": "code",
      "source": [],
      "metadata": {
        "id": "WWQYB7o4Rv2W"
      },
      "execution_count": null,
      "outputs": []
    }
  ]
}